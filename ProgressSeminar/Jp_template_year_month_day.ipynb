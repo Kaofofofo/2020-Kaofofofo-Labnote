{
 "cells": [
  {
   "cell_type": "markdown",
   "source": [
    "# 進捗レポート\n",
    "Month.Day.Year\n",
    "\n",
    "## 前回のゼミで決めたタスク一覧\n",
    "TBA\n",
    "TBA\n",
    "\n",
    "## 今回のゼミまでにやってきたタスクと成果物\n",
    "TBA\n",
    "TBA\n",
    "\n",
    "## ゼミで解消したい疑問点・問題点\n",
    "TBA\n",
    "TBA\n",
    "\n",
    "## 次回のゼミまでやってくるタスク一覧\n",
    "TBA\n",
    "TBA\n",
    "\n",
    "## その他\n",
    "TBA\n",
    "TBA\n",
    "\n",
    "## ゼミで議論した内容\n",
    "TBA\n",
    "TBA"
   ],
   "metadata": {
    "collapsed": false
   }
  }
 ],
 "metadata": {
  "kernelspec": {
   "display_name": "Python 3",
   "language": "python",
   "name": "python3"
  },
  "language_info": {
   "codemirror_mode": {
    "name": "ipython",
    "version": 2
   },
   "file_extension": ".py",
   "mimetype": "text/x-python",
   "name": "python",
   "nbconvert_exporter": "python",
   "pygments_lexer": "ipython2",
   "version": "2.7.6"
  }
 },
 "nbformat": 4,
 "nbformat_minor": 0
}