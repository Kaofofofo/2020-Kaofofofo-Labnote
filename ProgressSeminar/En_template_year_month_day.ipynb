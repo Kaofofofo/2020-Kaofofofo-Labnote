{
 "cells": [
  {
   "cell_type": "markdown",
   "source": [
    "# Progress Report\n",
    "Month.Day.Year\n",
    "\n",
    "## The Determined Tasks in Last Seminar\n",
    "- Task-1\n",
    "Details about Task-1\n",
    "\n",
    "- Task-2\n",
    "Details about Task-2\n",
    "\n",
    "## The Completed Tasks and Achievements by This Seminar\n",
    "- Completed Task-1\n",
    "Details about Task-1\n",
    "\n",
    "- Completed Task-2\n",
    "Details about Task-2\n",
    "\n",
    "## The Questions to be Discussed\n",
    "- Question-1\n",
    "Details about Question-1\n",
    "\n",
    "- Question-2\n",
    "Details about Question-2\n",
    "\n",
    "## The Planned Tasks by Next Seminar\n",
    "- Planned Task-1\n",
    "Details about Task-1\n",
    "\n",
    "- Planned Task-2\n",
    "Details about Task-2\n",
    "\n",
    "## Other\n",
    "- Content-1\n",
    "\n",
    "- Content-2\n",
    "\n",
    "## The Record of Discussed Contents\n",
    "- Discussion-1\n",
    "Self-thinking about the discussion-1\n",
    "\n",
    "- Discussion-2\n",
    "Self-thinking about the discussion-2\n"
   ],
   "metadata": {
    "collapsed": false
   }
  }
 ],
 "metadata": {
  "kernelspec": {
   "display_name": "Python 3",
   "language": "python",
   "name": "python3"
  },
  "language_info": {
   "codemirror_mode": {
    "name": "ipython",
    "version": 2
   },
   "file_extension": ".py",
   "mimetype": "text/x-python",
   "name": "python",
   "nbconvert_exporter": "python",
   "pygments_lexer": "ipython2",
   "version": "2.7.6"
  }
 },
 "nbformat": 4,
 "nbformat_minor": 0
}