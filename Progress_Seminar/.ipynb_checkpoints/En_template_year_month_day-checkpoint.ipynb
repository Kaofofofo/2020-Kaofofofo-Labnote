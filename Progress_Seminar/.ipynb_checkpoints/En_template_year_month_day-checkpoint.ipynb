{
 "cells": [
  {
   "cell_type": "markdown",
   "metadata": {
    "pycharm": {
     "name": "#%% md\n"
    }
   },
   "source": [
    "# Progress Report\n",
    "Month.Day.Year\n",
    "\n",
    "## 1. The Determined Tasks in Last Seminar\n",
    "- Task-1\n",
    "Details about Task-1\n",
    "\n",
    "- Task-2\n",
    "Details about Task-2\n",
    "\n",
    "## 2. The Completed Tasks and Achievements by This Seminar\n",
    "- Completed Task-1\n",
    "Details about Task-1\n",
    "\n",
    "- Completed Task-2\n",
    "Details about Task-2\n",
    "\n",
    "### 2.1 Sigmoid Function & Logistic Function\n",
    "\n",
    "A sigmoid function **having a characteristic of S-shaped curve** is defined as follows,\n",
    "\n",
    "$$ f(x)=\\frac{1}{1+\\exp(-\\sigma x)} $$\n",
    "\n",
    "A logistic function is defined as,\n",
    "\n",
    "$$ f(x)=\\frac{L}{1+\\exp(-k(x-x_0))} $$\n",
    "\n",
    "Commonly, with parameters ($k=1$, $x_0=0$, $L=1$), the standard logistic function is just a sigmoid function."
   ]
  },
  {
   "cell_type": "code",
   "execution_count": null,
   "metadata": {
    "pycharm": {
     "is_executing": true,
     "name": "#%%\n"
    }
   },
   "outputs": [],
   "source": [
    "import matplotlib.pyplot as plt\n",
    "import numpy as np\n",
    "\n",
    "x = np.arange(-10, 10, 0.1)\n",
    "f = 1. / (1. + np.exp(-x))\n",
    "\n",
    "plt.plot(x, f)\n",
    "plt.xlabel('x')\n",
    "plt.ylabel('f(x)')"
   ]
  },
  {
   "cell_type": "markdown",
   "metadata": {},
   "source": [
    "## 3. The Questions to be Discussed\n",
    "- Question-1\n",
    "Details about Question-1\n",
    "\n",
    "- Question-2\n",
    "Details about Question-2\n",
    "\n",
    "## 4. The Planned Tasks by Next Seminar\n",
    "- Planned Task-1\n",
    "Details about Task-1\n",
    "\n",
    "- Planned Task-2\n",
    "Details about Task-2\n",
    "\n",
    "## 5. Other\n",
    "- Content-1\n",
    "\n",
    "- Content-2\n",
    "\n",
    "## 6. The Record of Discussed Contents\n",
    "- Discussion-1\n",
    "Self-thinking about the discussion-1\n",
    "\n",
    "- Discussion-2\n",
    "Self-thinking about the discussion-2\n"
   ]
  },
  {
   "cell_type": "markdown",
   "metadata": {
    "pycharm": {
     "name": "#%% md\n"
    }
   },
   "source": [
    "## 3. The Questions to be Discussed\n",
    "- Question-1\n",
    "Details about Question-1\n",
    "\n",
    "- Question-2\n",
    "Details about Question-2\n",
    "\n",
    "## 4. The Planned Tasks by Next Seminar\n",
    "- Planned Task-1\n",
    "Details about Task-1\n",
    "\n",
    "- Planned Task-2\n",
    "Details about Task-2\n",
    "\n",
    "## 5. Other\n",
    "- Content-1\n",
    "\n",
    "- Content-2\n",
    "\n",
    "## 6. The Record of Discussed Contents\n",
    "- Discussion-1\n",
    "Self-thinking about the discussion-1\n",
    "\n",
    "- Discussion-2\n",
    "Self-thinking about the discussion-2\n"
   ]
  }
 ],
 "metadata": {
  "kernelspec": {
   "display_name": "Python 3",
   "language": "python",
   "name": "python3"
  },
  "language_info": {
   "codemirror_mode": {
    "name": "ipython",
    "version": 3
   },
   "file_extension": ".py",
   "mimetype": "text/x-python",
   "name": "python",
   "nbconvert_exporter": "python",
   "pygments_lexer": "ipython3",
   "version": "3.7.3"
  }
 },
 "nbformat": 4,
 "nbformat_minor": 1
}
