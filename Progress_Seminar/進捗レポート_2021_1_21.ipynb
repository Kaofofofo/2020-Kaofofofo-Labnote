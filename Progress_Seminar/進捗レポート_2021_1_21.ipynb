{
 "cells": [
  {
   "cell_type": "markdown",
   "metadata": {},
   "source": [
    "# 進捗レポート\n",
    "1.21.2021\n",
    "\n",
    "## 前回のゼミで決めたタスク一覧\n",
    "「Pythonで始める機械学習」,1章 2章 2.1~2.2,線形モデル,ニューラルネットワーク 5章\n",
    "\n",
    "## 今回のゼミまでにやってきたタスクと成果物\n",
    "「Pythonで始める機械学習」,1章 2章 5章\n",
    "\n",
    "## ゼミで解消したい疑問点・問題点\n",
    "Gitの基本的な操作方法\n",
    "\n",
    "## 次回のゼミまでやってくるタスク一覧\n",
    "学習の続き？\n",
    "\n",
    "## その他\n",
    "\n",
    "## ゼミで議論した内容"
   ]
  }
 ],
 "metadata": {
  "kernelspec": {
   "display_name": "Python 3",
   "language": "python",
   "name": "python3"
  },
  "language_info": {
   "codemirror_mode": {
    "name": "ipython",
    "version": 3
   },
   "file_extension": ".py",
   "mimetype": "text/x-python",
   "name": "python",
   "nbconvert_exporter": "python",
   "pygments_lexer": "ipython3",
   "version": "3.8.5"
  }
 },
 "nbformat": 4,
 "nbformat_minor": 1
}
